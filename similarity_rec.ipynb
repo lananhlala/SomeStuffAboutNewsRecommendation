{
 "metadata": {
  "language_info": {
   "codemirror_mode": {
    "name": "ipython",
    "version": 3
   },
   "file_extension": ".py",
   "mimetype": "text/x-python",
   "name": "python",
   "nbconvert_exporter": "python",
   "pygments_lexer": "ipython3",
   "version": "3.7.6-final"
  },
  "orig_nbformat": 2,
  "kernelspec": {
   "name": "Python 3.7.6 64-bit",
   "display_name": "Python 3.7.6 64-bit",
   "metadata": {
    "interpreter": {
     "hash": "7f2dcf1d125493348cccf1ae2de68f791ab3bc9e1341fd8e5bb01552f7645ce1"
    }
   }
  }
 },
 "nbformat": 4,
 "nbformat_minor": 2,
 "cells": [
  {
   "cell_type": "code",
   "execution_count": 1,
   "metadata": {},
   "outputs": [],
   "source": [
    "module_path = os.path.abspath(os.path.join('..'))\n",
    "if module_path not in sys.path:\n",
    "    sys.path.append(module_path)\n",
    "import pandas as pd\n",
    "import numpy as np\n",
    "from sklearn.feature_extraction.text import TfidfVectorizer\n",
    "from sklearn.metrics.pairwise import cosine_similarity  \n",
    "from sklearn.metrics import pairwise_distances"
   ]
  },
  {
   "cell_type": "code",
   "execution_count": 2,
   "metadata": {},
   "outputs": [
    {
     "output_type": "execute_result",
     "data": {
      "text/plain": [
       "                                               title  \\\n",
       "0  Phát động cuộc thi tiếng Anh TOEFL Challenge d...   \n",
       "1  Hải Phòng: 4 cháu bé nhập viện cấp cứu sau khi...   \n",
       "2  Văn Hậu được Heerenveen đăng ký lần đầu, có th...   \n",
       "3  Anh Nguyễn Tuấn Nam tái đắc cử Chủ tịch Hội LH...   \n",
       "4  Trồng hoa kiểng trong chậu phù hợp với nông ng...   \n",
       "\n",
       "                                           summarize  \\\n",
       "0  Tổ chức Giáo dục IIG Việt Nam phát động cuộc t...   \n",
       "1  Sau khi chia nhau uống chai sữa hoa quả do 1 n...   \n",
       "2  Hậu vệ người Việt Nam ngồi ghế dự bị Heerenvee...   \n",
       "3  Sáng nay (20/9), Đại hội đại biểu Hội LHTNVN t...   \n",
       "4  Trung tâm Khuyến nông TPHCM vừa triển khai mô ...   \n",
       "\n",
       "                                             content               created  \\\n",
       "0  quang_cảnh phát_động tổ_chức thi ủng_hộ gdđt g...  20/09/19 10:27 GMT+7   \n",
       "1  bác_sĩ phạm thị thành giám_đốc bvđk chân xác_n...  17/09/19 22:00 GMT+7   \n",
       "2  chính_thức tập_luyện heerenveen văn hậu chính_...  22/09/19 16:50 GMT+7   \n",
       "3  đoàn chủ_tịch đại_hội lhtn tỉnh lạng sơn ảnh c...  20/09/19 11:06 GMT+7   \n",
       "4  mô_hình triển_khai hoa dừa cạn yến thảo nguồn_...  23/09/19 09:49 GMT+7   \n",
       "\n",
       "                                 url  category  \\\n",
       "0  https://baomoi.com/c/32258593.epi  Giáo dục   \n",
       "1  https://baomoi.com/c/32226941.epi  Đời sống   \n",
       "2  https://baomoi.com/c/32283331.epi  Thể thao   \n",
       "3  https://baomoi.com/c/32259106.epi    Xã hội   \n",
       "4  https://baomoi.com/c/32289518.epi   Kinh tế   \n",
       "\n",
       "                                                 tag      source  \n",
       "0  TOEFL Primary Challenge TOEFL Primary TOEFL Ju...       GD&TĐ  \n",
       "1  Chai sữa H.A. Công an phường Lạch Tray Ngộ độc...       GĐ&XH  \n",
       "2  Lucas Woudenberg Văn Hậu Dự bị Hậu vệ Johny Ja...         VTC  \n",
       "3  Nguyễn Tuấn Nam Hội LHTNVN Nguyễn Kim Quy Hồ P...  Tiền Phong  \n",
       "4  Trung tâm Khuyến nông TPHCM Hoa kiểng Dừa cạn ...        SGGP  "
      ],
      "text/html": "<div>\n<style scoped>\n    .dataframe tbody tr th:only-of-type {\n        vertical-align: middle;\n    }\n\n    .dataframe tbody tr th {\n        vertical-align: top;\n    }\n\n    .dataframe thead th {\n        text-align: right;\n    }\n</style>\n<table border=\"1\" class=\"dataframe\">\n  <thead>\n    <tr style=\"text-align: right;\">\n      <th></th>\n      <th>title</th>\n      <th>summarize</th>\n      <th>content</th>\n      <th>created</th>\n      <th>url</th>\n      <th>category</th>\n      <th>tag</th>\n      <th>source</th>\n    </tr>\n  </thead>\n  <tbody>\n    <tr>\n      <th>0</th>\n      <td>Phát động cuộc thi tiếng Anh TOEFL Challenge d...</td>\n      <td>Tổ chức Giáo dục IIG Việt Nam phát động cuộc t...</td>\n      <td>quang_cảnh phát_động tổ_chức thi ủng_hộ gdđt g...</td>\n      <td>20/09/19 10:27 GMT+7</td>\n      <td>https://baomoi.com/c/32258593.epi</td>\n      <td>Giáo dục</td>\n      <td>TOEFL Primary Challenge TOEFL Primary TOEFL Ju...</td>\n      <td>GD&amp;TĐ</td>\n    </tr>\n    <tr>\n      <th>1</th>\n      <td>Hải Phòng: 4 cháu bé nhập viện cấp cứu sau khi...</td>\n      <td>Sau khi chia nhau uống chai sữa hoa quả do 1 n...</td>\n      <td>bác_sĩ phạm thị thành giám_đốc bvđk chân xác_n...</td>\n      <td>17/09/19 22:00 GMT+7</td>\n      <td>https://baomoi.com/c/32226941.epi</td>\n      <td>Đời sống</td>\n      <td>Chai sữa H.A. Công an phường Lạch Tray Ngộ độc...</td>\n      <td>GĐ&amp;XH</td>\n    </tr>\n    <tr>\n      <th>2</th>\n      <td>Văn Hậu được Heerenveen đăng ký lần đầu, có th...</td>\n      <td>Hậu vệ người Việt Nam ngồi ghế dự bị Heerenvee...</td>\n      <td>chính_thức tập_luyện heerenveen văn hậu chính_...</td>\n      <td>22/09/19 16:50 GMT+7</td>\n      <td>https://baomoi.com/c/32283331.epi</td>\n      <td>Thể thao</td>\n      <td>Lucas Woudenberg Văn Hậu Dự bị Hậu vệ Johny Ja...</td>\n      <td>VTC</td>\n    </tr>\n    <tr>\n      <th>3</th>\n      <td>Anh Nguyễn Tuấn Nam tái đắc cử Chủ tịch Hội LH...</td>\n      <td>Sáng nay (20/9), Đại hội đại biểu Hội LHTNVN t...</td>\n      <td>đoàn chủ_tịch đại_hội lhtn tỉnh lạng sơn ảnh c...</td>\n      <td>20/09/19 11:06 GMT+7</td>\n      <td>https://baomoi.com/c/32259106.epi</td>\n      <td>Xã hội</td>\n      <td>Nguyễn Tuấn Nam Hội LHTNVN Nguyễn Kim Quy Hồ P...</td>\n      <td>Tiền Phong</td>\n    </tr>\n    <tr>\n      <th>4</th>\n      <td>Trồng hoa kiểng trong chậu phù hợp với nông ng...</td>\n      <td>Trung tâm Khuyến nông TPHCM vừa triển khai mô ...</td>\n      <td>mô_hình triển_khai hoa dừa cạn yến thảo nguồn_...</td>\n      <td>23/09/19 09:49 GMT+7</td>\n      <td>https://baomoi.com/c/32289518.epi</td>\n      <td>Kinh tế</td>\n      <td>Trung tâm Khuyến nông TPHCM Hoa kiểng Dừa cạn ...</td>\n      <td>SGGP</td>\n    </tr>\n  </tbody>\n</table>\n</div>"
     },
     "metadata": {},
     "execution_count": 2
    }
   ],
   "source": [
    "data_train = pd.read_csv('TopicModeling/data/data_train.csv', usecols=['title','summarize','content','created','url','category','tag','source'])\n",
    "data_train.head()"
   ]
  },
  {
   "cell_type": "code",
   "execution_count": 3,
   "metadata": {},
   "outputs": [],
   "source": [
    "data_train.dropna(subset=['content'], inplace=True)"
   ]
  },
  {
   "cell_type": "code",
   "execution_count": 4,
   "metadata": {},
   "outputs": [],
   "source": [
    "tfidf_title_vectorizer = TfidfVectorizer()\n",
    "tfidf_title_features = tfidf_title_vectorizer.fit_transform(data_train['content'])"
   ]
  },
  {
   "cell_type": "code",
   "execution_count": 11,
   "metadata": {
    "tags": []
   },
   "outputs": [
    {
     "output_type": "stream",
     "name": "stdout",
     "text": [
      "[1.41221143 1.4132776  1.41352415 ... 1.39668328 1.40614792 1.40886446]\n[  100 22756  8810 10890  6777 21574 10917 11283 16386  8151  7140]\n============================== Queried article details ==============================\ntitle :  Hoãn cổ tức tới 5 lần, Sudico Sông Đà lại thất hứa với cổ đông\ncontent:  cổ_tức sjs dời cổ_tức gom thành đợt thay_vì hoãn cổ_tức sjs sjs trường_hợp công_ty thu_xếp tiền hoạt_động_sản_xuất kinh_doanh công_ty xem_xét thanh_toán cổ_tức sudico hoãn cổ_tức hồi giao_dịch chứng_khoán tphcm hose văn_bản nhắc_nhở sjs nghiêm_túc quy_định quản_trị công_ty quy_định luật doanh_nghiệp cổ_tức thanh_toán đầy_đủ thời_hạn kết_thúc họp đhđcđ thường_niên sjs chậm_trễ chia cổ_tức quy_định quyền_lợi cổ_đông_sở nhắc_nhở sjs nhanh_chóng nghĩa_vụ cổ_tức cổ_đông quy_định hiện_hành nhắc_nhở sjs vốn chi_trả cổ_tức chủ_yếu thu dự_án nam khánh dự_án tổng công_nợ đồng đối_tác chậm_trễ thanh_toán công_ty thiếu_hụt vốn chi_trả cổ_tức sjs làm_việc đối_tác khách_hàng biện_pháp công_tác thu vốn dự_án sjs vốn chi_trả cổ_tức tiến_độ thất_hứa sjs nản_lòng cổ_đông lợi_nhuận thuế phân_phối sjs đồng tổng_tỷ_lệ cổ_tức hai triệu cổ_phiếu lưu_hành dự_kiến sjs chi đồng cổ_tức cổ_đông cổ_đông duy_nhất sjs tổng công_ty sông tỷ_lệ nắm vốn sjs cổ_tức tổng công_ty sông đồng thị_trường cổ_phiếu sjs giao_dịch sát mốc đồngcp vòng quý minh\n\n ========================= Recommended articles :  =======================\n"
     ]
    },
    {
     "output_type": "execute_result",
     "data": {
      "text/plain": [
       "            publish_date                                              title  \\\n",
       "10  23/09/19 13:14 GMT+7  Bến xe Miền Tây chi hàng trăm tỷ đồng chia cổ tức   \n",
       "9   20/09/19 09:20 GMT+7             Sudico: Đến hẹn lại... khất lần cổ tức   \n",
       "8   20/09/19 10:54 GMT+7             Sudico: Đến hẹn lại... khất lần cổ tức   \n",
       "7   22/09/19 11:44 GMT+7  Danh sách doanh nghiệp chốt trả cổ tức tuần từ...   \n",
       "6   17/09/19 19:06 GMT+7     PVS dự chi hơn 334 tỷ đồng trả cổ tức năm 2018   \n",
       "5   19/09/19 11:13 GMT+7  Tập đoàn Sao Mai (ASM) dự chi gần 260 tỷ đồng ...   \n",
       "4   19/09/19 11:53 GMT+7  Thủy điện – Điên lực 3 (DRL) tạm ứng cổ tức đợ...   \n",
       "3   20/09/19 07:06 GMT+7                      ASM tạm ứng cổ tức đợt 1/2019   \n",
       "2   20/09/19 15:54 GMT+7  Thói quen 'khất lần' khó bỏ, Sudico lại lùi ng...   \n",
       "1   20/09/19 16:55 GMT+7                 Sông Đà Sudico lại 'chây ì' cổ tức   \n",
       "0   19/09/19 11:43 GMT+7  Hoãn cổ tức tới 5 lần, Sudico Sông Đà lại thất...   \n",
       "\n",
       "    Euclidean similarity with the queried article  \n",
       "10                                       1.227044  \n",
       "9                                        1.216648  \n",
       "8                                        1.216623  \n",
       "7                                        1.209554  \n",
       "6                                        1.207472  \n",
       "5                                        1.182336  \n",
       "4                                        1.123389  \n",
       "3                                        1.113805  \n",
       "2                                        0.868867  \n",
       "1                                        0.545596  \n",
       "0                                        0.000000  "
      ],
      "text/html": "<div>\n<style scoped>\n    .dataframe tbody tr th:only-of-type {\n        vertical-align: middle;\n    }\n\n    .dataframe tbody tr th {\n        vertical-align: top;\n    }\n\n    .dataframe thead th {\n        text-align: right;\n    }\n</style>\n<table border=\"1\" class=\"dataframe\">\n  <thead>\n    <tr style=\"text-align: right;\">\n      <th></th>\n      <th>publish_date</th>\n      <th>title</th>\n      <th>Euclidean similarity with the queried article</th>\n    </tr>\n  </thead>\n  <tbody>\n    <tr>\n      <th>10</th>\n      <td>23/09/19 13:14 GMT+7</td>\n      <td>Bến xe Miền Tây chi hàng trăm tỷ đồng chia cổ tức</td>\n      <td>1.227044</td>\n    </tr>\n    <tr>\n      <th>9</th>\n      <td>20/09/19 09:20 GMT+7</td>\n      <td>Sudico: Đến hẹn lại... khất lần cổ tức</td>\n      <td>1.216648</td>\n    </tr>\n    <tr>\n      <th>8</th>\n      <td>20/09/19 10:54 GMT+7</td>\n      <td>Sudico: Đến hẹn lại... khất lần cổ tức</td>\n      <td>1.216623</td>\n    </tr>\n    <tr>\n      <th>7</th>\n      <td>22/09/19 11:44 GMT+7</td>\n      <td>Danh sách doanh nghiệp chốt trả cổ tức tuần từ...</td>\n      <td>1.209554</td>\n    </tr>\n    <tr>\n      <th>6</th>\n      <td>17/09/19 19:06 GMT+7</td>\n      <td>PVS dự chi hơn 334 tỷ đồng trả cổ tức năm 2018</td>\n      <td>1.207472</td>\n    </tr>\n    <tr>\n      <th>5</th>\n      <td>19/09/19 11:13 GMT+7</td>\n      <td>Tập đoàn Sao Mai (ASM) dự chi gần 260 tỷ đồng ...</td>\n      <td>1.182336</td>\n    </tr>\n    <tr>\n      <th>4</th>\n      <td>19/09/19 11:53 GMT+7</td>\n      <td>Thủy điện – Điên lực 3 (DRL) tạm ứng cổ tức đợ...</td>\n      <td>1.123389</td>\n    </tr>\n    <tr>\n      <th>3</th>\n      <td>20/09/19 07:06 GMT+7</td>\n      <td>ASM tạm ứng cổ tức đợt 1/2019</td>\n      <td>1.113805</td>\n    </tr>\n    <tr>\n      <th>2</th>\n      <td>20/09/19 15:54 GMT+7</td>\n      <td>Thói quen 'khất lần' khó bỏ, Sudico lại lùi ng...</td>\n      <td>0.868867</td>\n    </tr>\n    <tr>\n      <th>1</th>\n      <td>20/09/19 16:55 GMT+7</td>\n      <td>Sông Đà Sudico lại 'chây ì' cổ tức</td>\n      <td>0.545596</td>\n    </tr>\n    <tr>\n      <th>0</th>\n      <td>19/09/19 11:43 GMT+7</td>\n      <td>Hoãn cổ tức tới 5 lần, Sudico Sông Đà lại thất...</td>\n      <td>0.000000</td>\n    </tr>\n  </tbody>\n</table>\n</div>"
     },
     "metadata": {},
     "execution_count": 11
    }
   ],
   "source": [
    "def tfidf_based_model(row_index, num_similar_items):\n",
    "    couple_dist = pairwise_distances(tfidf_title_features, tfidf_title_features[row_index])\n",
    "    print(couple_dist.ravel())\n",
    "    indices = np.argsort(couple_dist.ravel())[0:num_similar_items]\n",
    "    print(indices)\n",
    "    df = pd.DataFrame({'publish_date': data_train['created'][indices].values,\n",
    "               'title': data_train['title'][indices].values,\n",
    "                'Euclidean similarity with the queried article': couple_dist[indices].ravel()})\n",
    "    print(\"=\"*30,\"Queried article details\",\"=\"*30)\n",
    "    print('title : ', data_train['title'][indices[0]])\n",
    "    print('content: ', data_train['content'][indices[0]])\n",
    "    print(\"\\n\",\"=\"*25,\"Recommended articles : \",\"=\"*23)\n",
    "    \n",
    "    #return df.iloc[1:,1]\n",
    "    df.sort_values(by=['Euclidean similarity with the queried article'], ascending=False, inplace=True)\n",
    "    return df.iloc[:num_similar_items,]\n",
    "\n",
    "tfidf_based_model(100, 11)"
   ]
  },
  {
   "source": [
    "## Test with data test after lda model"
   ],
   "cell_type": "markdown",
   "metadata": {}
  },
  {
   "cell_type": "code",
   "execution_count": 6,
   "metadata": {},
   "outputs": [
    {
     "output_type": "execute_result",
     "data": {
      "text/plain": [
       "                                               title  \\\n",
       "0  Phát động cuộc thi tiếng Anh TOEFL Challenge d...   \n",
       "1  Hải Phòng: 4 cháu bé nhập viện cấp cứu sau khi...   \n",
       "2  Văn Hậu được Heerenveen đăng ký lần đầu, có th...   \n",
       "3  Anh Nguyễn Tuấn Nam tái đắc cử Chủ tịch Hội LH...   \n",
       "4  Trồng hoa kiểng trong chậu phù hợp với nông ng...   \n",
       "\n",
       "                                           summarize  \\\n",
       "0  Tổ chức Giáo dục IIG Việt Nam phát động cuộc t...   \n",
       "1  Sau khi chia nhau uống chai sữa hoa quả do 1 n...   \n",
       "2  Hậu vệ người Việt Nam ngồi ghế dự bị Heerenvee...   \n",
       "3  Sáng nay (20/9), Đại hội đại biểu Hội LHTNVN t...   \n",
       "4  Trung tâm Khuyến nông TPHCM vừa triển khai mô ...   \n",
       "\n",
       "                                             content               created  \\\n",
       "0  quang_cảnh phát_động tổ_chức thi ủng_hộ gdđt g...  20/09/19 10:27 GMT+7   \n",
       "1  bác_sĩ phạm thị thành giám_đốc bvđk chân xác_n...  17/09/19 22:00 GMT+7   \n",
       "2  chính_thức tập_luyện heerenveen văn hậu chính_...  22/09/19 16:50 GMT+7   \n",
       "3  đoàn chủ_tịch đại_hội lhtn tỉnh lạng sơn ảnh c...  20/09/19 11:06 GMT+7   \n",
       "4  mô_hình triển_khai hoa dừa cạn yến thảo nguồn_...  23/09/19 09:49 GMT+7   \n",
       "\n",
       "                                 url  category  \\\n",
       "0  https://baomoi.com/c/32258593.epi  Giáo dục   \n",
       "1  https://baomoi.com/c/32226941.epi  Đời sống   \n",
       "2  https://baomoi.com/c/32283331.epi  Thể thao   \n",
       "3  https://baomoi.com/c/32259106.epi    Xã hội   \n",
       "4  https://baomoi.com/c/32289518.epi   Kinh tế   \n",
       "\n",
       "                                                 tag      source  \n",
       "0  TOEFL Primary Challenge TOEFL Primary TOEFL Ju...       GD&TĐ  \n",
       "1  Chai sữa H.A. Công an phường Lạch Tray Ngộ độc...       GĐ&XH  \n",
       "2  Lucas Woudenberg Văn Hậu Dự bị Hậu vệ Johny Ja...         VTC  \n",
       "3  Nguyễn Tuấn Nam Hội LHTNVN Nguyễn Kim Quy Hồ P...  Tiền Phong  \n",
       "4  Trung tâm Khuyến nông TPHCM Hoa kiểng Dừa cạn ...        SGGP  "
      ],
      "text/html": "<div>\n<style scoped>\n    .dataframe tbody tr th:only-of-type {\n        vertical-align: middle;\n    }\n\n    .dataframe tbody tr th {\n        vertical-align: top;\n    }\n\n    .dataframe thead th {\n        text-align: right;\n    }\n</style>\n<table border=\"1\" class=\"dataframe\">\n  <thead>\n    <tr style=\"text-align: right;\">\n      <th></th>\n      <th>title</th>\n      <th>summarize</th>\n      <th>content</th>\n      <th>created</th>\n      <th>url</th>\n      <th>category</th>\n      <th>tag</th>\n      <th>source</th>\n    </tr>\n  </thead>\n  <tbody>\n    <tr>\n      <th>0</th>\n      <td>Phát động cuộc thi tiếng Anh TOEFL Challenge d...</td>\n      <td>Tổ chức Giáo dục IIG Việt Nam phát động cuộc t...</td>\n      <td>quang_cảnh phát_động tổ_chức thi ủng_hộ gdđt g...</td>\n      <td>20/09/19 10:27 GMT+7</td>\n      <td>https://baomoi.com/c/32258593.epi</td>\n      <td>Giáo dục</td>\n      <td>TOEFL Primary Challenge TOEFL Primary TOEFL Ju...</td>\n      <td>GD&amp;TĐ</td>\n    </tr>\n    <tr>\n      <th>1</th>\n      <td>Hải Phòng: 4 cháu bé nhập viện cấp cứu sau khi...</td>\n      <td>Sau khi chia nhau uống chai sữa hoa quả do 1 n...</td>\n      <td>bác_sĩ phạm thị thành giám_đốc bvđk chân xác_n...</td>\n      <td>17/09/19 22:00 GMT+7</td>\n      <td>https://baomoi.com/c/32226941.epi</td>\n      <td>Đời sống</td>\n      <td>Chai sữa H.A. Công an phường Lạch Tray Ngộ độc...</td>\n      <td>GĐ&amp;XH</td>\n    </tr>\n    <tr>\n      <th>2</th>\n      <td>Văn Hậu được Heerenveen đăng ký lần đầu, có th...</td>\n      <td>Hậu vệ người Việt Nam ngồi ghế dự bị Heerenvee...</td>\n      <td>chính_thức tập_luyện heerenveen văn hậu chính_...</td>\n      <td>22/09/19 16:50 GMT+7</td>\n      <td>https://baomoi.com/c/32283331.epi</td>\n      <td>Thể thao</td>\n      <td>Lucas Woudenberg Văn Hậu Dự bị Hậu vệ Johny Ja...</td>\n      <td>VTC</td>\n    </tr>\n    <tr>\n      <th>3</th>\n      <td>Anh Nguyễn Tuấn Nam tái đắc cử Chủ tịch Hội LH...</td>\n      <td>Sáng nay (20/9), Đại hội đại biểu Hội LHTNVN t...</td>\n      <td>đoàn chủ_tịch đại_hội lhtn tỉnh lạng sơn ảnh c...</td>\n      <td>20/09/19 11:06 GMT+7</td>\n      <td>https://baomoi.com/c/32259106.epi</td>\n      <td>Xã hội</td>\n      <td>Nguyễn Tuấn Nam Hội LHTNVN Nguyễn Kim Quy Hồ P...</td>\n      <td>Tiền Phong</td>\n    </tr>\n    <tr>\n      <th>4</th>\n      <td>Trồng hoa kiểng trong chậu phù hợp với nông ng...</td>\n      <td>Trung tâm Khuyến nông TPHCM vừa triển khai mô ...</td>\n      <td>mô_hình triển_khai hoa dừa cạn yến thảo nguồn_...</td>\n      <td>23/09/19 09:49 GMT+7</td>\n      <td>https://baomoi.com/c/32289518.epi</td>\n      <td>Kinh tế</td>\n      <td>Trung tâm Khuyến nông TPHCM Hoa kiểng Dừa cạn ...</td>\n      <td>SGGP</td>\n    </tr>\n  </tbody>\n</table>\n</div>"
     },
     "metadata": {},
     "execution_count": 6
    }
   ],
   "source": [
    "data_test = pd.read_csv('TopicModeling/data/data_test.csv', usecols=['title','summarize','content','created','url','category','tag','source', 'group'])\n",
    "data_train.head()"
   ]
  },
  {
   "cell_type": "code",
   "execution_count": 7,
   "metadata": {},
   "outputs": [],
   "source": [
    "data_test.dropna(subset=['summarize'], inplace=True)\n",
    "data_test.dropna(subset=['created'], inplace=True)"
   ]
  },
  {
   "cell_type": "code",
   "execution_count": 8,
   "metadata": {
    "tags": []
   },
   "outputs": [
    {
     "output_type": "execute_result",
     "data": {
      "text/plain": [
       "Empty DataFrame\n",
       "Columns: [title, summarize, content, created, url, category, tag, source, group]\n",
       "Index: []"
      ],
      "text/html": "<div>\n<style scoped>\n    .dataframe tbody tr th:only-of-type {\n        vertical-align: middle;\n    }\n\n    .dataframe tbody tr th {\n        vertical-align: top;\n    }\n\n    .dataframe thead th {\n        text-align: right;\n    }\n</style>\n<table border=\"1\" class=\"dataframe\">\n  <thead>\n    <tr style=\"text-align: right;\">\n      <th></th>\n      <th>title</th>\n      <th>summarize</th>\n      <th>content</th>\n      <th>created</th>\n      <th>url</th>\n      <th>category</th>\n      <th>tag</th>\n      <th>source</th>\n      <th>group</th>\n    </tr>\n  </thead>\n  <tbody>\n  </tbody>\n</table>\n</div>"
     },
     "metadata": {},
     "execution_count": 8
    }
   ],
   "source": [
    "data_test[data_test['created']==None]"
   ]
  },
  {
   "cell_type": "code",
   "execution_count": 10,
   "metadata": {
    "tags": []
   },
   "outputs": [
    {
     "output_type": "stream",
     "name": "stdout",
     "text": [
      "[1.41221143 1.4132776  1.41352415 ... 1.39668328 1.40614792 1.40886446]\n"
     ]
    },
    {
     "output_type": "error",
     "ename": "KeyError",
     "evalue": "'Passing list-likes to .loc or [] with any missing labels is no longer supported, see https://pandas.pydata.org/pandas-docs/stable/user_guide/indexing.html#deprecate-loc-reindex-listlike'",
     "traceback": [
      "\u001b[1;31m---------------------------------------------------------------------------\u001b[0m",
      "\u001b[1;31mKeyError\u001b[0m                                  Traceback (most recent call last)",
      "\u001b[1;32m<ipython-input-10-4d9d712c1412>\u001b[0m in \u001b[0;36m<module>\u001b[1;34m\u001b[0m\n\u001b[0;32m     19\u001b[0m     \u001b[1;32mreturn\u001b[0m \u001b[0mdf\u001b[0m\u001b[1;33m.\u001b[0m\u001b[0miloc\u001b[0m\u001b[1;33m[\u001b[0m\u001b[1;33m:\u001b[0m\u001b[0mnum_similar_items\u001b[0m\u001b[1;33m,\u001b[0m\u001b[0mdf\u001b[0m\u001b[1;33m[\u001b[0m\u001b[1;34m'group'\u001b[0m\u001b[1;33m]\u001b[0m\u001b[1;33m==\u001b[0m\u001b[0mgroup\u001b[0m\u001b[1;33m]\u001b[0m\u001b[1;33m\u001b[0m\u001b[1;33m\u001b[0m\u001b[0m\n\u001b[0;32m     20\u001b[0m \u001b[1;33m\u001b[0m\u001b[0m\n\u001b[1;32m---> 21\u001b[1;33m \u001b[0mtfidf_based_model\u001b[0m\u001b[1;33m(\u001b[0m\u001b[1;36m100\u001b[0m\u001b[1;33m,\u001b[0m \u001b[1;36m11\u001b[0m\u001b[1;33m)\u001b[0m\u001b[1;33m\u001b[0m\u001b[1;33m\u001b[0m\u001b[0m\n\u001b[0m",
      "\u001b[1;32m<ipython-input-10-4d9d712c1412>\u001b[0m in \u001b[0;36mtfidf_based_model\u001b[1;34m(row_index, num_similar_items)\u001b[0m\n\u001b[0;32m      3\u001b[0m     \u001b[0mprint\u001b[0m\u001b[1;33m(\u001b[0m\u001b[0mcouple_dist\u001b[0m\u001b[1;33m.\u001b[0m\u001b[0mravel\u001b[0m\u001b[1;33m(\u001b[0m\u001b[1;33m)\u001b[0m\u001b[1;33m)\u001b[0m\u001b[1;33m\u001b[0m\u001b[1;33m\u001b[0m\u001b[0m\n\u001b[0;32m      4\u001b[0m     \u001b[0mindices\u001b[0m \u001b[1;33m=\u001b[0m \u001b[0mnp\u001b[0m\u001b[1;33m.\u001b[0m\u001b[0margsort\u001b[0m\u001b[1;33m(\u001b[0m\u001b[0mcouple_dist\u001b[0m\u001b[1;33m.\u001b[0m\u001b[0mravel\u001b[0m\u001b[1;33m(\u001b[0m\u001b[1;33m)\u001b[0m\u001b[1;33m)\u001b[0m\u001b[1;33m[\u001b[0m\u001b[1;36m0\u001b[0m\u001b[1;33m:\u001b[0m\u001b[0mnum_similar_items\u001b[0m\u001b[1;33m]\u001b[0m\u001b[1;33m\u001b[0m\u001b[1;33m\u001b[0m\u001b[0m\n\u001b[1;32m----> 5\u001b[1;33m     \u001b[0mprint\u001b[0m\u001b[1;33m(\u001b[0m\u001b[0mdata_test\u001b[0m\u001b[1;33m[\u001b[0m\u001b[1;34m'created'\u001b[0m\u001b[1;33m]\u001b[0m\u001b[1;33m[\u001b[0m\u001b[0mindices\u001b[0m\u001b[1;33m]\u001b[0m\u001b[1;33m.\u001b[0m\u001b[0mvalues\u001b[0m\u001b[1;33m)\u001b[0m\u001b[1;33m\u001b[0m\u001b[1;33m\u001b[0m\u001b[0m\n\u001b[0m\u001b[0;32m      6\u001b[0m     df = pd.DataFrame({'publish_date': data_test['created'][indices].values,\n\u001b[0;32m      7\u001b[0m                \u001b[1;34m'title'\u001b[0m\u001b[1;33m:\u001b[0m \u001b[0mdata_test\u001b[0m\u001b[1;33m[\u001b[0m\u001b[1;34m'title'\u001b[0m\u001b[1;33m]\u001b[0m\u001b[1;33m[\u001b[0m\u001b[0mindices\u001b[0m\u001b[1;33m]\u001b[0m\u001b[1;33m.\u001b[0m\u001b[0mvalues\u001b[0m\u001b[1;33m,\u001b[0m\u001b[1;33m\u001b[0m\u001b[1;33m\u001b[0m\u001b[0m\n",
      "\u001b[1;32m~\\AppData\\Local\\Programs\\Python\\Python37\\lib\\site-packages\\pandas\\core\\series.py\u001b[0m in \u001b[0;36m__getitem__\u001b[1;34m(self, key)\u001b[0m\n\u001b[0;32m    908\u001b[0m             \u001b[0mkey\u001b[0m \u001b[1;33m=\u001b[0m \u001b[0mcheck_bool_indexer\u001b[0m\u001b[1;33m(\u001b[0m\u001b[0mself\u001b[0m\u001b[1;33m.\u001b[0m\u001b[0mindex\u001b[0m\u001b[1;33m,\u001b[0m \u001b[0mkey\u001b[0m\u001b[1;33m)\u001b[0m\u001b[1;33m\u001b[0m\u001b[1;33m\u001b[0m\u001b[0m\n\u001b[0;32m    909\u001b[0m \u001b[1;33m\u001b[0m\u001b[0m\n\u001b[1;32m--> 910\u001b[1;33m         \u001b[1;32mreturn\u001b[0m \u001b[0mself\u001b[0m\u001b[1;33m.\u001b[0m\u001b[0m_get_with\u001b[0m\u001b[1;33m(\u001b[0m\u001b[0mkey\u001b[0m\u001b[1;33m)\u001b[0m\u001b[1;33m\u001b[0m\u001b[1;33m\u001b[0m\u001b[0m\n\u001b[0m\u001b[0;32m    911\u001b[0m \u001b[1;33m\u001b[0m\u001b[0m\n\u001b[0;32m    912\u001b[0m     \u001b[1;32mdef\u001b[0m \u001b[0m_get_with\u001b[0m\u001b[1;33m(\u001b[0m\u001b[0mself\u001b[0m\u001b[1;33m,\u001b[0m \u001b[0mkey\u001b[0m\u001b[1;33m)\u001b[0m\u001b[1;33m:\u001b[0m\u001b[1;33m\u001b[0m\u001b[1;33m\u001b[0m\u001b[0m\n",
      "\u001b[1;32m~\\AppData\\Local\\Programs\\Python\\Python37\\lib\\site-packages\\pandas\\core\\series.py\u001b[0m in \u001b[0;36m_get_with\u001b[1;34m(self, key)\u001b[0m\n\u001b[0;32m    941\u001b[0m         \u001b[1;32mif\u001b[0m \u001b[0mkey_type\u001b[0m \u001b[1;33m==\u001b[0m \u001b[1;34m\"integer\"\u001b[0m\u001b[1;33m:\u001b[0m\u001b[1;33m\u001b[0m\u001b[1;33m\u001b[0m\u001b[0m\n\u001b[0;32m    942\u001b[0m             \u001b[1;32mif\u001b[0m \u001b[0mself\u001b[0m\u001b[1;33m.\u001b[0m\u001b[0mindex\u001b[0m\u001b[1;33m.\u001b[0m\u001b[0mis_integer\u001b[0m\u001b[1;33m(\u001b[0m\u001b[1;33m)\u001b[0m \u001b[1;32mor\u001b[0m \u001b[0mself\u001b[0m\u001b[1;33m.\u001b[0m\u001b[0mindex\u001b[0m\u001b[1;33m.\u001b[0m\u001b[0mis_floating\u001b[0m\u001b[1;33m(\u001b[0m\u001b[1;33m)\u001b[0m\u001b[1;33m:\u001b[0m\u001b[1;33m\u001b[0m\u001b[1;33m\u001b[0m\u001b[0m\n\u001b[1;32m--> 943\u001b[1;33m                 \u001b[1;32mreturn\u001b[0m \u001b[0mself\u001b[0m\u001b[1;33m.\u001b[0m\u001b[0mloc\u001b[0m\u001b[1;33m[\u001b[0m\u001b[0mkey\u001b[0m\u001b[1;33m]\u001b[0m\u001b[1;33m\u001b[0m\u001b[1;33m\u001b[0m\u001b[0m\n\u001b[0m\u001b[0;32m    944\u001b[0m             \u001b[1;32melse\u001b[0m\u001b[1;33m:\u001b[0m\u001b[1;33m\u001b[0m\u001b[1;33m\u001b[0m\u001b[0m\n\u001b[0;32m    945\u001b[0m                 \u001b[1;32mreturn\u001b[0m \u001b[0mself\u001b[0m\u001b[1;33m.\u001b[0m\u001b[0m_get_values\u001b[0m\u001b[1;33m(\u001b[0m\u001b[0mkey\u001b[0m\u001b[1;33m)\u001b[0m\u001b[1;33m\u001b[0m\u001b[1;33m\u001b[0m\u001b[0m\n",
      "\u001b[1;32m~\\AppData\\Local\\Programs\\Python\\Python37\\lib\\site-packages\\pandas\\core\\indexing.py\u001b[0m in \u001b[0;36m__getitem__\u001b[1;34m(self, key)\u001b[0m\n\u001b[0;32m   1766\u001b[0m \u001b[1;33m\u001b[0m\u001b[0m\n\u001b[0;32m   1767\u001b[0m             \u001b[0mmaybe_callable\u001b[0m \u001b[1;33m=\u001b[0m \u001b[0mcom\u001b[0m\u001b[1;33m.\u001b[0m\u001b[0mapply_if_callable\u001b[0m\u001b[1;33m(\u001b[0m\u001b[0mkey\u001b[0m\u001b[1;33m,\u001b[0m \u001b[0mself\u001b[0m\u001b[1;33m.\u001b[0m\u001b[0mobj\u001b[0m\u001b[1;33m)\u001b[0m\u001b[1;33m\u001b[0m\u001b[1;33m\u001b[0m\u001b[0m\n\u001b[1;32m-> 1768\u001b[1;33m             \u001b[1;32mreturn\u001b[0m \u001b[0mself\u001b[0m\u001b[1;33m.\u001b[0m\u001b[0m_getitem_axis\u001b[0m\u001b[1;33m(\u001b[0m\u001b[0mmaybe_callable\u001b[0m\u001b[1;33m,\u001b[0m \u001b[0maxis\u001b[0m\u001b[1;33m=\u001b[0m\u001b[0maxis\u001b[0m\u001b[1;33m)\u001b[0m\u001b[1;33m\u001b[0m\u001b[1;33m\u001b[0m\u001b[0m\n\u001b[0m\u001b[0;32m   1769\u001b[0m \u001b[1;33m\u001b[0m\u001b[0m\n\u001b[0;32m   1770\u001b[0m     \u001b[1;32mdef\u001b[0m \u001b[0m_is_scalar_access\u001b[0m\u001b[1;33m(\u001b[0m\u001b[0mself\u001b[0m\u001b[1;33m,\u001b[0m \u001b[0mkey\u001b[0m\u001b[1;33m:\u001b[0m \u001b[0mTuple\u001b[0m\u001b[1;33m)\u001b[0m\u001b[1;33m:\u001b[0m\u001b[1;33m\u001b[0m\u001b[1;33m\u001b[0m\u001b[0m\n",
      "\u001b[1;32m~\\AppData\\Local\\Programs\\Python\\Python37\\lib\\site-packages\\pandas\\core\\indexing.py\u001b[0m in \u001b[0;36m_getitem_axis\u001b[1;34m(self, key, axis)\u001b[0m\n\u001b[0;32m   1952\u001b[0m                     \u001b[1;32mraise\u001b[0m \u001b[0mValueError\u001b[0m\u001b[1;33m(\u001b[0m\u001b[1;34m\"Cannot index with multidimensional key\"\u001b[0m\u001b[1;33m)\u001b[0m\u001b[1;33m\u001b[0m\u001b[1;33m\u001b[0m\u001b[0m\n\u001b[0;32m   1953\u001b[0m \u001b[1;33m\u001b[0m\u001b[0m\n\u001b[1;32m-> 1954\u001b[1;33m                 \u001b[1;32mreturn\u001b[0m \u001b[0mself\u001b[0m\u001b[1;33m.\u001b[0m\u001b[0m_getitem_iterable\u001b[0m\u001b[1;33m(\u001b[0m\u001b[0mkey\u001b[0m\u001b[1;33m,\u001b[0m \u001b[0maxis\u001b[0m\u001b[1;33m=\u001b[0m\u001b[0maxis\u001b[0m\u001b[1;33m)\u001b[0m\u001b[1;33m\u001b[0m\u001b[1;33m\u001b[0m\u001b[0m\n\u001b[0m\u001b[0;32m   1955\u001b[0m \u001b[1;33m\u001b[0m\u001b[0m\n\u001b[0;32m   1956\u001b[0m             \u001b[1;31m# nested tuple slicing\u001b[0m\u001b[1;33m\u001b[0m\u001b[1;33m\u001b[0m\u001b[1;33m\u001b[0m\u001b[0m\n",
      "\u001b[1;32m~\\AppData\\Local\\Programs\\Python\\Python37\\lib\\site-packages\\pandas\\core\\indexing.py\u001b[0m in \u001b[0;36m_getitem_iterable\u001b[1;34m(self, key, axis)\u001b[0m\n\u001b[0;32m   1593\u001b[0m         \u001b[1;32melse\u001b[0m\u001b[1;33m:\u001b[0m\u001b[1;33m\u001b[0m\u001b[1;33m\u001b[0m\u001b[0m\n\u001b[0;32m   1594\u001b[0m             \u001b[1;31m# A collection of keys\u001b[0m\u001b[1;33m\u001b[0m\u001b[1;33m\u001b[0m\u001b[1;33m\u001b[0m\u001b[0m\n\u001b[1;32m-> 1595\u001b[1;33m             \u001b[0mkeyarr\u001b[0m\u001b[1;33m,\u001b[0m \u001b[0mindexer\u001b[0m \u001b[1;33m=\u001b[0m \u001b[0mself\u001b[0m\u001b[1;33m.\u001b[0m\u001b[0m_get_listlike_indexer\u001b[0m\u001b[1;33m(\u001b[0m\u001b[0mkey\u001b[0m\u001b[1;33m,\u001b[0m \u001b[0maxis\u001b[0m\u001b[1;33m,\u001b[0m \u001b[0mraise_missing\u001b[0m\u001b[1;33m=\u001b[0m\u001b[1;32mFalse\u001b[0m\u001b[1;33m)\u001b[0m\u001b[1;33m\u001b[0m\u001b[1;33m\u001b[0m\u001b[0m\n\u001b[0m\u001b[0;32m   1596\u001b[0m             return self.obj._reindex_with_indexers(\n\u001b[0;32m   1597\u001b[0m                 \u001b[1;33m{\u001b[0m\u001b[0maxis\u001b[0m\u001b[1;33m:\u001b[0m \u001b[1;33m[\u001b[0m\u001b[0mkeyarr\u001b[0m\u001b[1;33m,\u001b[0m \u001b[0mindexer\u001b[0m\u001b[1;33m]\u001b[0m\u001b[1;33m}\u001b[0m\u001b[1;33m,\u001b[0m \u001b[0mcopy\u001b[0m\u001b[1;33m=\u001b[0m\u001b[1;32mTrue\u001b[0m\u001b[1;33m,\u001b[0m \u001b[0mallow_dups\u001b[0m\u001b[1;33m=\u001b[0m\u001b[1;32mTrue\u001b[0m\u001b[1;33m\u001b[0m\u001b[1;33m\u001b[0m\u001b[0m\n",
      "\u001b[1;32m~\\AppData\\Local\\Programs\\Python\\Python37\\lib\\site-packages\\pandas\\core\\indexing.py\u001b[0m in \u001b[0;36m_get_listlike_indexer\u001b[1;34m(self, key, axis, raise_missing)\u001b[0m\n\u001b[0;32m   1551\u001b[0m \u001b[1;33m\u001b[0m\u001b[0m\n\u001b[0;32m   1552\u001b[0m         self._validate_read_indexer(\n\u001b[1;32m-> 1553\u001b[1;33m             \u001b[0mkeyarr\u001b[0m\u001b[1;33m,\u001b[0m \u001b[0mindexer\u001b[0m\u001b[1;33m,\u001b[0m \u001b[0mo\u001b[0m\u001b[1;33m.\u001b[0m\u001b[0m_get_axis_number\u001b[0m\u001b[1;33m(\u001b[0m\u001b[0maxis\u001b[0m\u001b[1;33m)\u001b[0m\u001b[1;33m,\u001b[0m \u001b[0mraise_missing\u001b[0m\u001b[1;33m=\u001b[0m\u001b[0mraise_missing\u001b[0m\u001b[1;33m\u001b[0m\u001b[1;33m\u001b[0m\u001b[0m\n\u001b[0m\u001b[0;32m   1554\u001b[0m         )\n\u001b[0;32m   1555\u001b[0m         \u001b[1;32mreturn\u001b[0m \u001b[0mkeyarr\u001b[0m\u001b[1;33m,\u001b[0m \u001b[0mindexer\u001b[0m\u001b[1;33m\u001b[0m\u001b[1;33m\u001b[0m\u001b[0m\n",
      "\u001b[1;32m~\\AppData\\Local\\Programs\\Python\\Python37\\lib\\site-packages\\pandas\\core\\indexing.py\u001b[0m in \u001b[0;36m_validate_read_indexer\u001b[1;34m(self, key, indexer, axis, raise_missing)\u001b[0m\n\u001b[0;32m   1653\u001b[0m             \u001b[1;32mif\u001b[0m \u001b[1;32mnot\u001b[0m \u001b[1;33m(\u001b[0m\u001b[0max\u001b[0m\u001b[1;33m.\u001b[0m\u001b[0mis_categorical\u001b[0m\u001b[1;33m(\u001b[0m\u001b[1;33m)\u001b[0m \u001b[1;32mor\u001b[0m \u001b[0max\u001b[0m\u001b[1;33m.\u001b[0m\u001b[0mis_interval\u001b[0m\u001b[1;33m(\u001b[0m\u001b[1;33m)\u001b[0m\u001b[1;33m)\u001b[0m\u001b[1;33m:\u001b[0m\u001b[1;33m\u001b[0m\u001b[1;33m\u001b[0m\u001b[0m\n\u001b[0;32m   1654\u001b[0m                 raise KeyError(\n\u001b[1;32m-> 1655\u001b[1;33m                     \u001b[1;34m\"Passing list-likes to .loc or [] with any missing labels \"\u001b[0m\u001b[1;33m\u001b[0m\u001b[1;33m\u001b[0m\u001b[0m\n\u001b[0m\u001b[0;32m   1656\u001b[0m                     \u001b[1;34m\"is no longer supported, see \"\u001b[0m\u001b[1;33m\u001b[0m\u001b[1;33m\u001b[0m\u001b[0m\n\u001b[0;32m   1657\u001b[0m                     \u001b[1;34m\"https://pandas.pydata.org/pandas-docs/stable/user_guide/indexing.html#deprecate-loc-reindex-listlike\"\u001b[0m  \u001b[1;31m# noqa:E501\u001b[0m\u001b[1;33m\u001b[0m\u001b[1;33m\u001b[0m\u001b[0m\n",
      "\u001b[1;31mKeyError\u001b[0m: 'Passing list-likes to .loc or [] with any missing labels is no longer supported, see https://pandas.pydata.org/pandas-docs/stable/user_guide/indexing.html#deprecate-loc-reindex-listlike'"
     ]
    }
   ],
   "source": [
    "def tfidf_based_model(row_index, num_similar_items):\n",
    "    couple_dist = pairwise_distances(tfidf_title_features, tfidf_title_features[row_index])\n",
    "    print(couple_dist.ravel())\n",
    "    indices = np.argsort(couple_dist.ravel())[0:num_similar_items]\n",
    "    print(data_test['created'][indices].values)\n",
    "    df = pd.DataFrame({'publish_date': data_test['created'][indices].values,\n",
    "               'title': data_test['title'][indices].values,\n",
    "               'group': data_test['group'][indices].values,\n",
    "                'Euclidean similarity with the queried article': couple_dist[indices].ravel()})\n",
    "    print(\"=\"*30,\"Queried article details\",\"=\"*30)\n",
    "    print('title : ', data_test['title'][indices[0]])\n",
    "    print('content: ', data_test['content'][indices[0]])\n",
    "    group = data_test['group'][indices[0]]\n",
    "    print('group: ', group)\n",
    "    print(\"\\n\",\"=\"*25,\"Recommended articles : \",\"=\"*23)\n",
    "    \n",
    "    #return df.iloc[1:,1]\n",
    "    # df.sort_values(by=['Euclidean similarity with the queried article'], ascending=False, inplace=True)\n",
    "    return df.iloc[:num_similar_items,df['group']==group]\n",
    "\n",
    "tfidf_based_model(100, 11)"
   ]
  },
  {
   "cell_type": "code",
   "execution_count": null,
   "metadata": {},
   "outputs": [],
   "source": []
  }
 ]
}